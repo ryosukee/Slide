{
 "cells": [
  {
   "cell_type": "markdown",
   "metadata": {
    "slideshow": {
     "slide_type": "slide"
    }
   },
   "source": [
    "2016/04/hoge  \n",
    "[nbviwer](http://nbviewer.jupyter.org/format/slides/github/ryosukee/Slide/blob/master/GitTutorial201604.ipynb#/)\n",
    "# Git & GitHub チュートリアル<br>　　　　　　for 100本knock\n",
    "\n",
    "<br>\n",
    "   \n",
    "<div align=\"right\">\n",
    "M2 宮崎亮輔　　　\n",
    "</div>"
   ]
  },
  {
   "cell_type": "markdown",
   "metadata": {
    "slideshow": {
     "slide_type": "slide"
    }
   },
   "source": [
    " # Gitとは\n",
    "* プログラムのソースコードなどの、  \n",
    "  変更履歴を記録・追跡するための  \n",
    "  分散型バージョン管理システム"
   ]
  },
  {
   "cell_type": "markdown",
   "metadata": {
    "slideshow": {
     "slide_type": "subslide"
    }
   },
   "source": [
    "# Gitとは\n",
    "* **プログラムのソースコード**などの、  \n"
   ]
  },
  {
   "cell_type": "code",
   "execution_count": 1,
   "metadata": {
    "collapsed": true
   },
   "outputs": [],
   "source": [
    "def square(a):\n",
    "    return a * 2"
   ]
  },
  {
   "cell_type": "markdown",
   "metadata": {
    "slideshow": {
     "slide_type": "subslide"
    }
   },
   "source": [
    "# Gitとは\n",
    "* プログラムのソースコードなどの、  \n",
    "  **変更履歴を記録・追跡**するための  "
   ]
  },
  {
   "cell_type": "code",
   "execution_count": 2,
   "metadata": {
    "collapsed": true
   },
   "outputs": [],
   "source": [
    "# version 1\n",
    "def square(a):\n",
    "    return a + a"
   ]
  },
  {
   "cell_type": "code",
   "execution_count": 5,
   "metadata": {
    "collapsed": true
   },
   "outputs": [],
   "source": [
    "# version 2\n",
    "def square(a):\n",
    "    return a * a"
   ]
  },
  {
   "cell_type": "code",
   "execution_count": 6,
   "metadata": {
    "collapsed": true
   },
   "outputs": [],
   "source": [
    "# version 3\n",
    "def square(a):\n",
    "    return a ** 2"
   ]
  },
  {
   "cell_type": "markdown",
   "metadata": {
    "slideshow": {
     "slide_type": "subslide"
    }
   },
   "source": [
    " # Gitとは\n",
    "* プログラムのソースコードなどの、  \n",
    "  変更履歴を記録・追跡するための  \n",
    "  **分散型バージョン管理システム**"
   ]
  },
  {
   "cell_type": "markdown",
   "metadata": {},
   "source": [
    "<div align=\"center\">\n",
    "<img src=\"img/GitTutorial201604_1.png\">\n",
    "</div>"
   ]
  },
  {
   "cell_type": "markdown",
   "metadata": {
    "slideshow": {
     "slide_type": "slide"
    }
   },
   "source": [
    "# 何が便利？\n",
    "* 自分でバージョンを直接管理しなくてよい\n",
    "<div align=\"center\">\n",
    "<img src=\"img/GitTutorial201604_2.png\">\n",
    "</div>\n",
    "* 任意のバージョンに戻せる\n",
    "* 複数人で開発しやすい  \n",
    "などなど"
   ]
  },
  {
   "cell_type": "markdown",
   "metadata": {
    "slideshow": {
     "slide_type": "slide"
    }
   },
   "source": [
    "# どうやって使うの？\n",
    "* `git init` or (`git clone`)  \n",
    "    init: 現在のディレクトリをリポジトリとして初期化  \n",
    "     （リポジトリ: バージョン管理する1プロジェクトの単位）  \n",
    "    clone: 他のサーバ等に既にあるリポジトリをダウンロードしてくる  "
   ]
  },
  {
   "cell_type": "markdown",
   "metadata": {
    "slideshow": {
     "slide_type": "subslide"
    }
   },
   "source": [
    "# どうやって使うの？\n",
    "* `git add file_name`　  \n",
    "   変更したファイルを一時置き場に追加\n",
    "* `git commit -m 'message\"`  \n",
    "   一時置き場にあるファイルをすべてシステムに追加・更新  \n",
    "\n",
    "他にも色々"
   ]
  },
  {
   "cell_type": "markdown",
   "metadata": {
    "slideshow": {
     "slide_type": "slide"
    }
   },
   "source": [
    "# GitHubとは\n",
    "* リモートリポジトリを置いておけるWebサービス\n",
    "* 100本knockもGitHubを使って管理する\n",
    "* https://github.com/tmu-nlp/100kcnok2016.git\n",
    "\n",
    "色々便利機能もあったりする"
   ]
  },
  {
   "cell_type": "markdown",
   "metadata": {
    "slideshow": {
     "slide_type": "subslide"
    }
   },
   "source": [
    "#  やってみる\n",
    "* このGitHubからリポジトリをダウンロード\n",
    "* `git clone https://github.com/tmu-nlp/100kcnok2016.git`\n",
    "* \"100knock2016\"というディレクトリができる"
   ]
  },
  {
   "cell_type": "markdown",
   "metadata": {
    "slideshow": {
     "slide_type": "slide"
    }
   },
   "source": [
    "# ちょっと100knockの説明\n",
    "* chapter1 ~ 10まである\n",
    "* 10問 per chapter\n",
    "\n",
    "なので\n",
    "* READMEに書いてるようなディレクトリ構造にしてね！"
   ]
  },
  {
   "cell_type": "markdown",
   "metadata": {
    "slideshow": {
     "slide_type": "subslide"
    }
   },
   "source": [
    "# やってみる\n",
    "* mkdir 名前\n",
    "* cd 名前\n",
    "* mkdir chapter01\n",
    "* cd chapter01\n",
    "* vim knock00.py"
   ]
  },
  {
   "cell_type": "markdown",
   "metadata": {
    "slideshow": {
     "slide_type": "subslide"
    }
   },
   "source": [
    "# やってみる\n",
    "* git add knock00.py\n",
    "* git commit -m 'added knock00'\n",
    "* git push  \n",
    "  リモートのリポジトリ（今はGitHub)にも反映させる\n",
    "* git pull  \n",
    "  リモートのリポジトリの方が新しい場合、手元に反映させる"
   ]
  },
  {
   "cell_type": "markdown",
   "metadata": {
    "slideshow": {
     "slide_type": "slide"
    }
   },
   "source": [
    "# とりあえずはここまで\n",
    "他にも\n",
    "* バージョンを戻る\n",
    "* バージョンを枝分かれさせる  \n",
    "\n",
    "などなどある"
   ]
  }
 ],
 "metadata": {
  "celltoolbar": "Slideshow",
  "kernelspec": {
   "display_name": "Python 3",
   "language": "python",
   "name": "python3"
  },
  "language_info": {
   "codemirror_mode": {
    "name": "ipython",
    "version": 3
   },
   "file_extension": ".py",
   "mimetype": "text/x-python",
   "name": "python",
   "nbconvert_exporter": "python",
   "pygments_lexer": "ipython3",
   "version": "3.4.3"
  }
 },
 "nbformat": 4,
 "nbformat_minor": 0
}
